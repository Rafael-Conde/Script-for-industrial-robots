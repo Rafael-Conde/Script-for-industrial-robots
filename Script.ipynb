{
 "cells": [
  {
   "cell_type": "code",
   "execution_count": 1,
   "metadata": {},
   "outputs": [],
   "source": [
    "import sympy as s\n",
    "from sympy.vector import *\n",
    "import datetime as dt\n",
    "\n",
    "def is_number(s):\n",
    "    try:\n",
    "        float(s)\n",
    "        return True\n",
    "    except ValueError:\n",
    "        return False\n",
    "\n",
    "\n",
    "\n",
    "\n",
    "def symbolization(x,y):\n",
    "    t = s.Symbol('t')\n",
    "    for i in range(0,(len(x))):\n",
    "        for j in range(0,(len(x[i]))):\n",
    "            if is_number(x[i][j]):\n",
    "                aux1 = x[i][j]\n",
    "                aux2 = float(x[i][j])\n",
    "                x[i][j] = s.Symbol(x[i][j]).subs({aux1:aux2})\n",
    "            else:\n",
    "                if y[i]== 'r' and j==3:\n",
    "                    x[i][j] = s.Function(x[i][j])(t)\n",
    "                elif y[i]== 'p' and j==2:\n",
    "                    x[i][j] = s.Function(x[i][j])(t)\n",
    "                else:\n",
    "                    x[i][j] = s.Symbol(x[i][j])\n",
    "    return x\n",
    "\n",
    "\n",
    "def delta_t(x):\n",
    "    return x[1][len(x[1])-1] - x[0][len(x[0])-1]\n",
    "\n",
    "def calc_zs(J_aux):# the J_aux is assumed to not be changed after it's calculation\n",
    "    k = s.Matrix([[0],[0],[1]])\n",
    "    func_aux = J_aux\n",
    "    #print(func_aux)\n",
    "    \n",
    "    z = []\n",
    "    for i in range(0,len(func_aux)):\n",
    "        z.append(func_aux[i][0:3,0:3]*k)\n",
    "       # print(\"i=\",i)\n",
    "    return z\n",
    "\n",
    "\n",
    "def calc_zs(J_aux,i):# the J_aux is assumed to not be changed after it's calculation\n",
    "    k = s.Matrix([[0],[0],[1]])\n",
    "    func_aux = J_aux\n",
    "    \n",
    "    z = func_aux[i][0:3,0:3]*k\n",
    "    \n",
    "    return z\n",
    "\n",
    "\n",
    "\n",
    "\n",
    "def calcula_diferenca_Os(J_aux):# the J_aux is assumed to not be changed after it's calculation\n",
    "    func_aux = J_aux\n",
    "    #print(func_aux) \n",
    "    \n",
    "    diferenca = []\n",
    "    for i in range(1,len(func_aux)):\n",
    "        diferenca.append((func_aux[-1][0:3,3]-func_aux[i-1][0:3,3]))\n",
    "        #print(\"j=\",i)\n",
    "    \n",
    "    return diferenca\n",
    "\n",
    "def calcula_diferenca_Os(J_aux,i):# the J_aux is assumed to not be changed after it's calculation\n",
    "    func_aux = J_aux\n",
    "    \n",
    "    \n",
    "    diferenca = (func_aux[-1][0:3,3]-func_aux[i-1][0:3,3])\n",
    "    \n",
    "    \n",
    "    return diferenca\n",
    "\n",
    "\n",
    "\n",
    "\n",
    "\n",
    "def cross_product(z,diferenca):\n",
    "    from sympy.vector import CoordSys3D, matrix_to_vector\n",
    "    N = CoordSys3D('N')\n",
    "    z_vector = []\n",
    "    for i in range(0,len(z)):\n",
    "        z_vector.append(matrix_to_vector(z[i],N))\n",
    "\n",
    "    diferenca_vector = []\n",
    "    for i in range(0,len(diferenca)):\n",
    "        diferenca_vector.append(matrix_to_vector(diferenca[i],N))\n",
    "    #len(diferenca_vector)\n",
    "    J_v_aux = []\n",
    "    for i in range(0,len(diferenca_vector)):\n",
    "        J_v_aux.append(z_vector[i]^diferenca_vector[i])\n",
    "        #print(\"k=\",i)\n",
    "        \n",
    "    for i in range(0,len(J_v_aux)):\n",
    "        J_v_aux[i] = J_v_aux[i].to_matrix(N)\n",
    "    \n",
    "    return J_v_aux\n",
    "\n",
    "\n",
    "def cross_product(J_aux,i):\n",
    "    from sympy.vector import CoordSys3D, matrix_to_vector\n",
    "    N = CoordSys3D('N')\n",
    "    z_vector = matrix_to_vector(calc_zs(J_aux,i),N)\n",
    "\n",
    "    diferenca_vector = matrix_to_vector(calcula_diferenca_Os(J_aux,i),N)\n",
    "    \n",
    "    J_v_aux = z_vector^diferenca_vector\n",
    "        \n",
    "    J_v_aux = J_v_aux.to_matrix(N)\n",
    "    \n",
    "    return J_v_aux\n",
    "\n",
    "\n",
    "\n",
    "\n",
    "def direct_kinematic(tabela_DH,joints):\n",
    "    # calculo dos Ai_i-1\n",
    "\n",
    "    \n",
    "    H_n_0= s.Matrix([[ 1, 0, 0, 0],\n",
    "                  [ 0, 1, 0, 0],\n",
    "                  [ 0, 0, 1, 0],\n",
    "                  [ 0, 0, 0, 1]])\n",
    "    \n",
    "    iteration_time_marks = [[],[]]\n",
    "    multiplications_time_marks = [[],[]]\n",
    "    simplifications_time_marks = [[],[]]\n",
    "    Ais = []\n",
    "    J_aux = []\n",
    "    k = s.Matrix([[0],[0],[1]])\n",
    "    begin = dt.datetime.now()\n",
    "    print('começo da multiplicação das matrizes em '+str(begin))\n",
    "    for i in range(0,(len(tabela_DH))):\n",
    "        iteration_time_marks[0].append(dt.datetime.now())\n",
    "        print('-----------------------------------------------------------------------------------------------')\n",
    "        print('inicio da iteração N° '+str(i+1)+': '+str(iteration_time_marks[0][len(iteration_time_marks[0])-1])+'\\n')\n",
    "    \n",
    "        \n",
    "        time_aux = dt.datetime.now()\n",
    "        Ais.append(s.Matrix([[s.cos(tabela_DH[i][3]), -s.sin(tabela_DH[i][3])*s.cos(tabela_DH[i][0]), s.sin(tabela_DH[i][3])*s.sin(tabela_DH[i][0]), tabela_DH[i][1]*s.cos(tabela_DH[i][3])],                \n",
    "                       [s.sin(tabela_DH[i][3]), s.cos(tabela_DH[i][3])*s.cos(tabela_DH[i][0]), -s.cos(tabela_DH[i][3])*s.sin(tabela_DH[i][0]), tabela_DH[i][1]*s.sin(tabela_DH[i][3])],            \n",
    "                       [0 , s.sin(tabela_DH[i][0]) , s.cos(tabela_DH[i][0]), tabela_DH[i][2]],\n",
    "                       [0, 0, 0, 1]]))\n",
    "        print('\\ttempo de criação da matriz da iteração N° '+str(i+1)+': '+str(dt.datetime.now()-time_aux)+'\\n')\n",
    "        \n",
    "        \n",
    "        multiplications_time_marks[0].append(dt.datetime.now())\n",
    "        \n",
    "        H_n_0 = H_n_0*Ais[len(Ais)-1]\n",
    "        J_aux.append(H_n_0) #adicionar a J_w_aux o resultado da multiplicação de k por H_n_0 sendo que cada elemento\n",
    "        #de J_w_aux é uma coluna do J_w e depois tem que juntar todas elas em uma mat\n",
    "        multiplications_time_marks[1].append(dt.datetime.now())\n",
    "        delta = delta_t(multiplications_time_marks)\n",
    "        print('\\ttempo multiplicação da iteração N° '+str(i+1)+': '+str(delta)+'\\n')\n",
    "            \n",
    "            \n",
    "        \n",
    "        \n",
    "        \n",
    "        \n",
    "        #As.append( z_theta*z_d*x_a*x_alpha   )\n",
    "        iteration_time_marks[1].append(dt.datetime.now())\n",
    "        delta = delta_t(iteration_time_marks)\n",
    "        print('tempo da iteração N° '+str(i+1)+': '+str(delta)+'\\n\\n')\n",
    "        \n",
    "    simplifications_time_marks[0].append(dt.datetime.now())\n",
    "        \n",
    "    #H_n_0= s.factor(H_n_0)\n",
    "    #H_n_0= s.trigsimp(H_n_0)\n",
    "    \n",
    "        \n",
    "    simplifications_time_marks[1].append(dt.datetime.now())\n",
    "    delta = delta_t(simplifications_time_marks)\n",
    "    print('-----------------------------------------------------------------------------------------------')\n",
    "    print('\\n\\n')\n",
    "    print('\\ttempo simplificação da iteração N° '+str(1)+': '+str(delta))\n",
    "    \n",
    "    finish = dt.datetime.now() \n",
    "    #H_n_0 = s.simplify(H_n_0)\n",
    "    #H_n_0 = s.trigsimp(H_n_0)\n",
    "    #H_n_0\n",
    "    lista_itens = [J_aux,begin,finish, iteration_time_marks, multiplications_time_marks,simplifications_time_marks]\n",
    "    return lista_itens\n",
    "\n",
    "def J_aux_preparation(J_aux):\n",
    "    neutro = [s.Matrix([[1,0,0,0],\n",
    "                   [0,1,0,0],\n",
    "                   [0,0,1,0],\n",
    "                   [0,0,0,1]])]\n",
    "    for i in range(0,len(J_aux)):\n",
    "        neutro.append(J_aux[i])\n",
    "    \n",
    "    return neutro\n",
    "\n",
    "#calculating linear velocity part of the Jacobian to a rotational joint\n",
    "def calc_J_v_aux_r(J_aux):\n",
    "    return cross_product(  calc_zs(J_aux)  ,  calcula_diferenca_Os(J_aux)  )\n",
    "\n",
    "\n",
    "#performs the calculation of the jacobian of a given robot based on it's DH table\n",
    "def Jacobian_calculation(J_aux,joints):\n",
    "    Jacobian = s.Matrix([])\n",
    "    for i in range(1, len(J_aux)):\n",
    "        if( joints[i-1]=='r' ):\n",
    "            aux_v = cross_product(J_aux,i)\n",
    "            aux_r = calc_zs(J_aux,i)\n",
    "            column_aux = s.Matrix.vstack(aux_v,aux_r)\n",
    "        elif( joints[i-1]=='p' ):\n",
    "            aux_v = calc_zs(J_aux,i)\n",
    "            aux_r = s.Matrix([0,0,0])\n",
    "            column_aux = s.Matrix.vstack(aux_v,aux_r)\n",
    "        Jacobian = s.Matrix.hstack(Jacobian,column_aux)\n",
    "        #print(i)\n",
    "    return Jacobian\n",
    "\n"
   ]
  },
  {
   "cell_type": "code",
   "execution_count": 2,
   "metadata": {},
   "outputs": [],
   "source": [
    "#1° coluna = alpha, 2° coluna = ai, 3° coluna = di, 4° coluna = theta\n",
    "#joint é uma matriz para cada linha da tabela DH onde r signigica uma junta rotativa e p uma junta prismática\n",
    "#tabela_DH =([['alpha_1','a_1','d_1','theta_1'],\n",
    "#             ['alpha_2','a_2','d_2','theta_2']])\n",
    "\n",
    "tabela_DH =([['0','a_1','0','theta_1'],\n",
    "             ['0','a_2','0','theta_2']])\n",
    "             #['alpha_3','a_3','d_3','theta_3']])#,\n",
    "             #['alpha_4','a_4','d_4','theta_4'],\n",
    "             #['alpha_5','a_5','d_5','theta_5'],\n",
    "             #['alpha_6','a_6','d_6','theta_6']])\n",
    "joints = (['r','r','r'])#,'r','r','r'])\n"
   ]
  },
  {
   "cell_type": "code",
   "execution_count": 3,
   "metadata": {
    "scrolled": false
   },
   "outputs": [],
   "source": [
    "tabela_DH = symbolization(tabela_DH,joints)"
   ]
  },
  {
   "cell_type": "code",
   "execution_count": 4,
   "metadata": {},
   "outputs": [
    {
     "name": "stdout",
     "output_type": "stream",
     "text": [
      "começo da multiplicação das matrizes em 2021-04-12 21:16:18.774982\n",
      "-----------------------------------------------------------------------------------------------\n",
      "inicio da iteração N° 1: 2021-04-12 21:16:18.775984\n",
      "\n",
      "\ttempo de criação da matriz da iteração N° 1: 0:00:00.005999\n",
      "\n",
      "\ttempo multiplicação da iteração N° 1: 0:00:00.001996\n",
      "\n",
      "tempo da iteração N° 1: 0:00:00.008992\n",
      "\n",
      "\n",
      "-----------------------------------------------------------------------------------------------\n",
      "inicio da iteração N° 2: 2021-04-12 21:16:18.784976\n",
      "\n",
      "\ttempo de criação da matriz da iteração N° 2: 0:00:00.004150\n",
      "\n",
      "\ttempo multiplicação da iteração N° 2: 0:00:00.066372\n",
      "\n",
      "tempo da iteração N° 2: 0:00:00.070522\n",
      "\n",
      "\n",
      "-----------------------------------------------------------------------------------------------\n",
      "\n",
      "\n",
      "\n",
      "\ttempo simplificação da iteração N° 1: 0:00:00\n"
     ]
    }
   ],
   "source": [
    "lista_itens = direct_kinematic(tabela_DH, joints)"
   ]
  },
  {
   "cell_type": "code",
   "execution_count": 5,
   "metadata": {},
   "outputs": [],
   "source": [
    "agora = dt.datetime.now()"
   ]
  },
  {
   "cell_type": "code",
   "execution_count": 6,
   "metadata": {},
   "outputs": [
    {
     "name": "stdout",
     "output_type": "stream",
     "text": [
      "2021-04-12 21:16:18.948628\n"
     ]
    }
   ],
   "source": [
    "print(agora)"
   ]
  },
  {
   "cell_type": "code",
   "execution_count": 7,
   "metadata": {},
   "outputs": [
    {
     "name": "stdout",
     "output_type": "stream",
     "text": [
      "2021-04-12 21:16:18.774982\n",
      "2021-04-12 21:16:18.856502\n",
      "0:00:00.081520\n"
     ]
    }
   ],
   "source": [
    "#tempo de calculo da matrix H_n_0\n",
    "print(lista_itens[1])\n",
    "#finish = dt.datetime.now()\n",
    "print(lista_itens[2])\n",
    "print(lista_itens[2] - lista_itens[1])"
   ]
  },
  {
   "cell_type": "code",
   "execution_count": 8,
   "metadata": {},
   "outputs": [],
   "source": [
    "J_aux = J_aux_preparation(lista_itens[0])"
   ]
  },
  {
   "cell_type": "code",
   "execution_count": null,
   "metadata": {},
   "outputs": [],
   "source": []
  },
  {
   "cell_type": "code",
   "execution_count": 9,
   "metadata": {},
   "outputs": [
    {
     "data": {
      "text/latex": [
       "$\\displaystyle \\left[\\begin{matrix}- a_{1} \\sin{\\left(\\theta_{1}{\\left(t \\right)} \\right)} - a_{2} \\sin{\\left(\\theta_{1}{\\left(t \\right)} + \\theta_{2}{\\left(t \\right)} \\right)} & - a_{2} \\sin{\\left(\\theta_{1}{\\left(t \\right)} + \\theta_{2}{\\left(t \\right)} \\right)}\\\\a_{1} \\cos{\\left(\\theta_{1}{\\left(t \\right)} \\right)} + a_{2} \\cos{\\left(\\theta_{1}{\\left(t \\right)} + \\theta_{2}{\\left(t \\right)} \\right)} & a_{2} \\cos{\\left(\\theta_{1}{\\left(t \\right)} + \\theta_{2}{\\left(t \\right)} \\right)}\\\\0 & 0\\\\0 & 0\\\\0 & 0\\\\1 & 1\\end{matrix}\\right]$"
      ],
      "text/plain": [
       "Matrix([\n",
       "[-a_1*sin(theta_1(t)) - a_2*sin(theta_1(t) + theta_2(t)), -a_2*sin(theta_1(t) + theta_2(t))],\n",
       "[ a_1*cos(theta_1(t)) + a_2*cos(theta_1(t) + theta_2(t)),  a_2*cos(theta_1(t) + theta_2(t))],\n",
       "[                                                      0,                                 0],\n",
       "[                                                      0,                                 0],\n",
       "[                                                      0,                                 0],\n",
       "[                                                      1,                                 1]])"
      ]
     },
     "execution_count": 9,
     "metadata": {},
     "output_type": "execute_result"
    }
   ],
   "source": [
    "Jacobian = Jacobian_calculation(J_aux,joints)\n",
    "s.trigsimp(Jacobian)"
   ]
  },
  {
   "cell_type": "code",
   "execution_count": 82,
   "metadata": {},
   "outputs": [],
   "source": [
    "#early implementation of the calculation of the Lagrangian\n",
    "\n",
    "\n",
    "#implementation of a auxiliary function to the calculation of the Lagrangian, to calculate the generalized matrix of inertia\n",
    "def D_calculation(J_aux,joints, mass, Inertia_matrix):\n",
    "    jacobian = Jacobian_calculation(J_aux,joints)\n",
    "    lagrangian_aux = s.Matrix([0])\n",
    "    \n",
    "    r_aux = 1\n",
    "    for i in range(0,len(jacobian[0,:])):\n",
    "        #print(i)\n",
    "        for j in range(1,i+2):\n",
    "            r_aux *= J_aux[j][0:3,0:3]\n",
    "            #print(j)\n",
    "        lagrangian_aux += (mass[i]*(jacobian[0:3,i].transpose())*jacobian[0:3,i]) + ( (jacobian[3:,i].transpose())*r_aux*Inertia_matrix[i]*r_aux.transpose()*jacobian[3:,i] )\n",
    "        #print(lagrangian_aux)\n",
    "    return lagrangian_aux[0]\n",
    "\n"
   ]
  },
  {
   "cell_type": "code",
   "execution_count": 84,
   "metadata": {},
   "outputs": [
    {
     "data": {
      "text/latex": [
       "$\\displaystyle a_{1}^{2} + 2 a_{1} a_{2} \\cos{\\left(\\theta_{2}{\\left(t \\right)} \\right)} + 2 a_{2}^{2} + 2$"
      ],
      "text/plain": [
       "a_1**2 + 2*a_1*a_2*cos(theta_2(t)) + 2*a_2**2 + 2"
      ]
     },
     "execution_count": 84,
     "metadata": {},
     "output_type": "execute_result"
    }
   ],
   "source": [
    "ones = s.Matrix([[1,1,1],[1,1,1],[1,1,1]])\n",
    "mass = [1,1]\n",
    "Inertia_matrix = [ones,ones]\n",
    "D = D_calculation(J_aux,joints,mass,Inertia_matrix)\n",
    "s.trigsimp(D)"
   ]
  },
  {
   "cell_type": "code",
   "execution_count": null,
   "metadata": {},
   "outputs": [],
   "source": []
  }
 ],
 "metadata": {
  "kernelspec": {
   "display_name": "Python 3",
   "language": "python",
   "name": "python3"
  },
  "language_info": {
   "codemirror_mode": {
    "name": "ipython",
    "version": 3
   },
   "file_extension": ".py",
   "mimetype": "text/x-python",
   "name": "python",
   "nbconvert_exporter": "python",
   "pygments_lexer": "ipython3",
   "version": "3.7.6"
  }
 },
 "nbformat": 4,
 "nbformat_minor": 4
}
